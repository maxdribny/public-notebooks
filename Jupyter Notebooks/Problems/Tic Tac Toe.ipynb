{
 "cells": [
  {
   "cell_type": "markdown",
   "metadata": {},
   "source": [
    "# <u>Developing a Bot for Tic Tac Toe on Discord</u>"
   ]
  },
  {
   "cell_type": "markdown",
   "metadata": {},
   "source": [
    "### Steps:\n",
    "__1. Explore tic tac toe__\n",
    "> 1. <u>Representing the board</u>\n",
    ">> 1. Drawing the board.\n",
    ">> 2. Letting the player move.\n",
    "> 2. Branching factor\n",
    "> 2. Optimal solution\n",
    "\n",
    "\n",
    "**2. User interface for debugging.**\n",
    "\n",
    "\n",
    "**3. Text based user interface (conversion to discord bot).**"
   ]
  },
  {
   "cell_type": "markdown",
   "metadata": {},
   "source": [
    "-------------------------------------------------------------------------------------------------------------------------------"
   ]
  },
  {
   "cell_type": "markdown",
   "metadata": {},
   "source": [
    "## Exploring Tic Tac Toe"
   ]
  },
  {
   "cell_type": "markdown",
   "metadata": {},
   "source": [
    "#### Representing the board.\n",
    "> Basically just using a two dimensional array and iterating over it (bit of fiddling to try and get the board to draw properly).\n",
    ">> *Side note: this is waaaaay easier to do with a dictionary so that you can access each individual tile directly, but whatever, see code below for an example.*"
   ]
  },
  {
   "cell_type": "code",
   "execution_count": 1,
   "metadata": {},
   "outputs": [],
   "source": [
    "import random as rnd\n",
    "\n",
    "global running\n",
    "global moves_remaining\n",
    "\n",
    "running = True\n",
    "moves_remaining = 9\n",
    "\n",
    "global p1win\n",
    "global p2win\n",
    "global draw\n",
    "\n",
    "p1win = False\n",
    "p2win = False\n",
    "draw = False\n",
    "\n",
    "global player_moving\n",
    "player_moving = 1\n",
    "\n",
    "global BOARD_SIZE\n",
    "BOARD_SIZE = 3\n",
    "\n",
    "char_x = 'X'\n",
    "char_o = 'O'\n",
    "\n",
    "global board\n",
    "board = [[' ', ' ', ' ',],\n",
    "         [' ', ' ', ' ',],\n",
    "         [' ', ' ', ' ',]]\n",
    "\n",
    "global mboard\n",
    "mboard = [['1', '2', '3',],\n",
    "          ['4', '5', '6',],\n",
    "          ['7', '8', '9',]]\n",
    "\n",
    "# This implementation is far more consumable than using a two dimensional array.\n",
    "\n",
    "#board = {'1': ' ', '2': ' ', '3': ' ',\n",
    "#         '4': ' ', '5': ' ', '6': ' ',\n",
    "#         '7': ' ', '8': ' ', '9': ' ',}    "
   ]
  },
  {
   "cell_type": "markdown",
   "metadata": {},
   "source": [
    "Adding some utility methods to help with debugging and development."
   ]
  },
  {
   "cell_type": "code",
   "execution_count": 2,
   "metadata": {},
   "outputs": [],
   "source": [
    "def genRandomBoard():\n",
    "    global board\n",
    "    rint = 0\n",
    "    for x in range(len(board)):\n",
    "        for y in range(len(board[x])):\n",
    "            if(rint == 1):\n",
    "                board[x][y] = 'X'\n",
    "            else:\n",
    "                board[x][y] = 'O'\n",
    "            rint = rnd.randrange(1,3,1)"
   ]
  },
  {
   "cell_type": "markdown",
   "metadata": {},
   "source": [
    "#### Drawing the board"
   ]
  },
  {
   "cell_type": "code",
   "execution_count": 3,
   "metadata": {
    "scrolled": true
   },
   "outputs": [
    {
     "name": "stdout",
     "output_type": "stream",
     "text": [
      "\n",
      "- + - + - \n",
      "  |   |  \n",
      "- + - + - \n",
      "  |   |  \n",
      "- + - + - \n",
      "  |   |  \n",
      "- + - + - \n"
     ]
    }
   ],
   "source": [
    "def printBoard(b):\n",
    "    for x in range(len(b)):\n",
    "        print('\\n- + - + - ')\n",
    "        for y in range(len(b[x])):\n",
    "            if(y < 2):\n",
    "                print(b[x][y] + ' | ', sep=' ', end='', flush=True)\n",
    "            else:\n",
    "                print(b[x][y], sep=' ', end='', flush=True)\n",
    "                \n",
    "    print('\\n- + - + - ')\n",
    "    \n",
    "def printGameBoard():\n",
    "    printBoard(board)\n",
    "\n",
    "printGameBoard()"
   ]
  },
  {
   "cell_type": "markdown",
   "metadata": {},
   "source": [
    "#### Determining whether a player has won.\n",
    "> This kinda sucked.\n",
    "\n",
    "\n",
    "> **Columns**\n",
    ">> Iterate down each column for a given X. If we find a character which does not belong to the corresponding character of our player (X or O), we break. Otherwise, if we reach the size of the board (3-1 because our array index starts at *0*) we can assume that the current player has won the game because they have three of their characters in the column.\n",
    "\n",
    "\n",
    "> **Rows**\n",
    ">> This is essentially the same as for columns, but instead we now go along each row a given Y.\n",
    "\n",
    "\n",
    "> **Diagonal**\n",
    ">> This is fairly self explanatory. First we check that x = y, which means the move was placed somewhere on the diagonal. Then, we iterate along the diagonal ([1,1], [2,2], [3,3]) and perform the same process as before.\n",
    "\n",
    "\n",
    "> **Anti-diagonal**\n",
    ">> This looks more complicated than it is. <br>\n",
    ">> Imagine the following grid, I have indicated the co-ordinate positions of the cells which we want to evaluate: <br>\n",
    ">><center> --- | --- | 0,2 <br>\n",
    ">> --- | 1,1 | --- <br>\n",
    ">>2,0 | --- | ---  </center>\n",
    "\n",
    ">> Essentially, we want to make sure that the sum of our co-ordinates for the given move = 2.\n",
    ">> <br>That way, the move will always have been on the anti-diagonal cells.\n",
    ">> <br>Using the comparison **(x+y) == (board_size - 1)** we can make sure this is the case.\n",
    "\n",
    ">> Then, we iterate over the anti-diagonal using **board[ i ][ (board_size - 1) - i ]** <br>\n",
    ">> This is the general case, but for our purposes we can simplify this to **board[ i ] [2 - i]** <br>\n",
    ">> This will ensure that we are always on **[2,0]** **[1,1]** or **[0,2]** - *this is best to quickly dry run on a napkin to see the logic*"
   ]
  },
  {
   "cell_type": "code",
   "execution_count": 4,
   "metadata": {},
   "outputs": [],
   "source": [
    "def checkWinCondition(x, y, player):\n",
    "    global BOARD_SIZE\n",
    "    global board\n",
    "    global p1win\n",
    "    global p2win\n",
    "    global draw\n",
    "    \n",
    "    char = ' '\n",
    "    \n",
    "    if player == 1:\n",
    "        char = 'X'\n",
    "    elif player == 2:\n",
    "        char = 'O'\n",
    "    \n",
    "    # Check columns\n",
    "    for i in range(BOARD_SIZE):\n",
    "        if board[x][i] != char:\n",
    "            break\n",
    "        if i == BOARD_SIZE-1:\n",
    "            if player == 1:\n",
    "                p1win = True\n",
    "            else:\n",
    "                p2win = True\n",
    "    \n",
    "    # Check rows\n",
    "    for i in range(BOARD_SIZE):\n",
    "        if board[i][y] != char:\n",
    "            break\n",
    "        if i == BOARD_SIZE-1:\n",
    "            if player == 1:\n",
    "                p1win = True\n",
    "            else:\n",
    "                p2win = True\n",
    "                \n",
    "    # Check diag\n",
    "    if x == y:\n",
    "        # we are on the diagonal\n",
    "        for i in range(BOARD_SIZE):\n",
    "            if board[i][i] != char:\n",
    "                break\n",
    "            if i == BOARD_SIZE-1:\n",
    "                if player == 1:\n",
    "                    p1win = True\n",
    "                else:\n",
    "                    p2win = True\n",
    "    \n",
    "    # Check anti-diag\n",
    "    if (x+y) == (BOARD_SIZE - 1):\n",
    "        for i in range(BOARD_SIZE):\n",
    "            if board[i][(BOARD_SIZE-1)-i] != char:\n",
    "                break\n",
    "            if i == BOARD_SIZE-1:\n",
    "                if player == 1:\n",
    "                    p1win = True\n",
    "                else:\n",
    "                    p2win = True\n",
    "                    \n",
    "    # Check draw\n",
    "    if moves_remaining == 0:\n",
    "        draw = True\n",
    "            \n",
    "            "
   ]
  },
  {
   "cell_type": "markdown",
   "metadata": {},
   "source": [
    "#### Adding player movement\n",
    "> Essentially, the player selects which square on the board to make a move. \\\n",
    "Each position on the board is labelled from 1 - 9 starting from the top left corner and moving across before moving down, like so:\n",
    "\n",
    "><center>1 | 2 | 3 <br>\n",
    ">4 | 5 | 6 <br>\n",
    ">7 | 8 | 9 </center>\n",
    "\n",
    "> The player then select which of the numbers to place their move. The characters are automatically alternated between the players.\n",
    "\n"
   ]
  },
  {
   "cell_type": "code",
   "execution_count": 5,
   "metadata": {},
   "outputs": [],
   "source": [
    "def printMoves():\n",
    "    # Display the movement board.\n",
    "    printBoard(mboard)\n",
    "    \n",
    "def move(pos, char):\n",
    "    global player_moving, board, moves_remaining\n",
    "    moves_remaining = 1\n",
    "    for x in range(len(mboard)):\n",
    "        for y in range(len(mboard[x])):\n",
    "            if str(pos) == mboard[x][y]:\n",
    "                print('Pos x: ' + str(x) + ' pos y: ' + str(y))\n",
    "                board[x][y] = char\n",
    "                if moves_remaining < 6:\n",
    "                    checkWinCondition(x, y, player_moving)\n",
    "    if player_moving == 1:\n",
    "        player_moving = 2\n",
    "    elif player_moving == 2:\n",
    "        player_moving = 1\n",
    "    \n",
    "def userInput():\n",
    "    global player_moving\n",
    "    print('\\nPlayer ' + str(player_moving) + ' turn. \\n')\n",
    "    print('\\nThe movements on the board are represented as such:')\n",
    "    printMoves()\n",
    "    print('\\n\\nSelect a position to place your move: ')\n",
    "    i = input()\n",
    "    if player_moving == 1:\n",
    "        move(i, 'X')\n",
    "    elif player_moving == 2:\n",
    "        move(i, 'O')"
   ]
  },
  {
   "cell_type": "markdown",
   "metadata": {},
   "source": [
    "#### Adding the game loop and finishing the game"
   ]
  },
  {
   "cell_type": "code",
   "execution_count": 6,
   "metadata": {},
   "outputs": [],
   "source": [
    "def reset():\n",
    "    global running, move_remaining, p1win, p2win, draw, player_moving, BOARD_SIZE, board, mboard\n",
    "    \n",
    "    running = True\n",
    "\n",
    "    moves_remaining = 9\n",
    "\n",
    "    p1win = False\n",
    "    p2win = False\n",
    "    draw = False\n",
    "\n",
    "    # 1 = p1 2 = p2\n",
    "    player_moving = 1\n",
    "\n",
    "    BOARD_SIZE = 3\n",
    "\n",
    "    board = [[' ', ' ', ' ',],\n",
    "             [' ', ' ', ' ',],\n",
    "             [' ', ' ', ' ',]]\n",
    "\n",
    "    mboard = [['1', '2', '3',],\n",
    "              ['4', '5', '6',],\n",
    "              ['7', '8', '9',]]\n",
    "    \n",
    "def playAgain():\n",
    "    print('Play again y/n?')\n",
    "    i = input()\n",
    "    if i == 'y':\n",
    "        reset()\n",
    "        game()\n",
    "    else:\n",
    "        return\n",
    "\n",
    "def game():\n",
    "    global running, move_remaining, p1win, p2win, draw, player_moving, BOARD_SIZE, board, mboard\n",
    "    while(running == True):\n",
    "        printGameBoard()\n",
    "        userInput()\n",
    "        if p1win == True:\n",
    "            print('Player 1 has won.')\n",
    "            running = False\n",
    "        elif p2win == True:\n",
    "            print('Player 2 has won.')\n",
    "            running = False\n",
    "        elif draw == True:\n",
    "            print('The game has ended in a draw.')\n",
    "            running = False\n",
    "    playAgain()"
   ]
  },
  {
   "cell_type": "code",
   "execution_count": null,
   "metadata": {},
   "outputs": [
    {
     "name": "stdout",
     "output_type": "stream",
     "text": [
      "\n",
      "- + - + - \n",
      "  |   |  \n",
      "- + - + - \n",
      "  |   |  \n",
      "- + - + - \n",
      "  |   |  \n",
      "- + - + - \n",
      "\n",
      "Player 1 turn. \n",
      "\n",
      "\n",
      "The movements on the board are represented as such:\n",
      "\n",
      "- + - + - \n",
      "1 | 2 | 3\n",
      "- + - + - \n",
      "4 | 5 | 6\n",
      "- + - + - \n",
      "7 | 8 | 9\n",
      "- + - + - \n",
      "\n",
      "\n",
      "Select a position to place your move: \n"
     ]
    }
   ],
   "source": [
    "game()"
   ]
  },
  {
   "cell_type": "code",
   "execution_count": null,
   "metadata": {},
   "outputs": [],
   "source": []
  }
 ],
 "metadata": {
  "kernelspec": {
   "display_name": "Python 3",
   "language": "python",
   "name": "python3"
  },
  "language_info": {
   "codemirror_mode": {
    "name": "ipython",
    "version": 3
   },
   "file_extension": ".py",
   "mimetype": "text/x-python",
   "name": "python",
   "nbconvert_exporter": "python",
   "pygments_lexer": "ipython3",
   "version": "3.7.6"
  }
 },
 "nbformat": 4,
 "nbformat_minor": 4
}
