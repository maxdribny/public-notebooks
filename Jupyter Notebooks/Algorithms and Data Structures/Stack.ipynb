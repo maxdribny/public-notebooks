{
 "cells": [
  {
   "cell_type": "code",
   "execution_count": 9,
   "metadata": {},
   "outputs": [],
   "source": [
    "class Stack:\n",
    "    def __init__(self):\n",
    "        self.items = []\n",
    "    \n",
    "    def isEmpty(self):\n",
    "        return self.items == []\n",
    "    \n",
    "    def push(self, item):\n",
    "        self.items.append(item)\n",
    "        \n",
    "    def pop(self):\n",
    "        return self.items.pop()\n",
    "    \n",
    "    def peek(self):\n",
    "        return self.items[len(self.items) -1]\n",
    "    \n",
    "    def size(self):\n",
    "        return len(self.items)"
   ]
  },
  {
   "cell_type": "code",
   "execution_count": 15,
   "metadata": {},
   "outputs": [
    {
     "name": "stdout",
     "output_type": "stream",
     "text": [
      "True\n",
      "\n",
      "Peek: dog\n",
      "\n",
      "Size: 3\n",
      "isEmpty: False\n",
      "\n",
      "Pop: 8.4\n",
      "Pop: True\n",
      "Size: 2\n"
     ]
    }
   ],
   "source": [
    "s = Stack()\n",
    "\n",
    "print(s.isEmpty())\n",
    "\n",
    "s.push(3)\n",
    "s.push('dog')\n",
    "\n",
    "print(\"\\nPeek: \" + s.peek())\n",
    "\n",
    "s.push(True)\n",
    "\n",
    "print(\"\\nSize: \" + str(s.size()))\n",
    "print(\"isEmpty: \" + str(s.isEmpty()))\n",
    "\n",
    "s.push(8.4)\n",
    "\n",
    "print(\"\\nPop: \" + str(s.pop()))\n",
    "print(\"Pop: \" + str(s.pop()))\n",
    "print(\"Size: \" + str(s.size()))"
   ]
  },
  {
   "cell_type": "code",
   "execution_count": null,
   "metadata": {},
   "outputs": [],
   "source": []
  }
 ],
 "metadata": {
  "kernelspec": {
   "display_name": "Python 3",
   "language": "python",
   "name": "python3"
  },
  "language_info": {
   "codemirror_mode": {
    "name": "ipython",
    "version": 3
   },
   "file_extension": ".py",
   "mimetype": "text/x-python",
   "name": "python",
   "nbconvert_exporter": "python",
   "pygments_lexer": "ipython3",
   "version": "3.7.6"
  }
 },
 "nbformat": 4,
 "nbformat_minor": 4
}
